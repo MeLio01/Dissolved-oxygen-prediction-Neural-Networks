{
  "cells": [
    {
      "cell_type": "code",
      "execution_count": 33,
      "metadata": {
        "colab": {
          "base_uri": "https://localhost:8080/"
        },
        "id": "sjw11i860bmf",
        "outputId": "3538e77d-2e0d-47aa-93ea-4b970524885e"
      },
      "outputs": [],
      "source": [
        "#from google.colab import drive\n",
        "#drive.mount('/content/drive')"
      ]
    },
    {
      "cell_type": "markdown",
      "metadata": {},
      "source": [
        "## Import Libraries and Data"
      ]
    },
    {
      "cell_type": "code",
      "execution_count": 34,
      "metadata": {
        "id": "NUCdexXXxyUQ"
      },
      "outputs": [],
      "source": [
        "# Import Libraries\n",
        "import numpy as np\n",
        "import pandas as pd\n",
        "import scipy\n",
        "import matplotlib.pyplot as plt\n",
        "import seaborn as sns\n",
        "from sklearn import linear_model\n",
        "from sklearn import model_selection\n",
        "from sklearn.metrics import mean_squared_error, r2_score, accuracy_score"
      ]
    },
    {
      "cell_type": "code",
      "execution_count": 35,
      "metadata": {
        "colab": {
          "base_uri": "https://localhost:8080/",
          "height": 206
        },
        "id": "aVpuikEvzxSQ",
        "outputId": "ecb72ed7-4ece-4428-df32-e7e5a0fdb46f"
      },
      "outputs": [
        {
          "data": {
            "text/html": [
              "<div>\n",
              "<style scoped>\n",
              "    .dataframe tbody tr th:only-of-type {\n",
              "        vertical-align: middle;\n",
              "    }\n",
              "\n",
              "    .dataframe tbody tr th {\n",
              "        vertical-align: top;\n",
              "    }\n",
              "\n",
              "    .dataframe thead th {\n",
              "        text-align: right;\n",
              "    }\n",
              "</style>\n",
              "<table border=\"1\" class=\"dataframe\">\n",
              "  <thead>\n",
              "    <tr style=\"text-align: right;\">\n",
              "      <th></th>\n",
              "      <th>Time</th>\n",
              "      <th>Devicename</th>\n",
              "      <th>Temperature</th>\n",
              "      <th>TDS</th>\n",
              "      <th>PH</th>\n",
              "      <th>DO</th>\n",
              "    </tr>\n",
              "  </thead>\n",
              "  <tbody>\n",
              "    <tr>\n",
              "      <th>0</th>\n",
              "      <td>Wed Jul 07 2021 14:15:09 GMT+0530 (India Stand...</td>\n",
              "      <td>867378035207325</td>\n",
              "      <td>29.0625</td>\n",
              "      <td>0.0</td>\n",
              "      <td>13.61598</td>\n",
              "      <td>9.91</td>\n",
              "    </tr>\n",
              "    <tr>\n",
              "      <th>1</th>\n",
              "      <td>Wed Jul 07 2021 14:16:14 GMT+0530 (India Stand...</td>\n",
              "      <td>867378035207325</td>\n",
              "      <td>29.0625</td>\n",
              "      <td>0.0</td>\n",
              "      <td>13.12313</td>\n",
              "      <td>9.90</td>\n",
              "    </tr>\n",
              "    <tr>\n",
              "      <th>2</th>\n",
              "      <td>Wed Jul 07 2021 14:17:18 GMT+0530 (India Stand...</td>\n",
              "      <td>867378035207325</td>\n",
              "      <td>29.0000</td>\n",
              "      <td>0.0</td>\n",
              "      <td>13.55723</td>\n",
              "      <td>9.90</td>\n",
              "    </tr>\n",
              "    <tr>\n",
              "      <th>3</th>\n",
              "      <td>Wed Jul 07 2021 14:18:23 GMT+0530 (India Stand...</td>\n",
              "      <td>867378035207325</td>\n",
              "      <td>29.0625</td>\n",
              "      <td>0.0</td>\n",
              "      <td>14.00000</td>\n",
              "      <td>9.90</td>\n",
              "    </tr>\n",
              "    <tr>\n",
              "      <th>4</th>\n",
              "      <td>Wed Jul 07 2021 14:19:28 GMT+0530 (India Stand...</td>\n",
              "      <td>867378035207325</td>\n",
              "      <td>29.0625</td>\n",
              "      <td>0.0</td>\n",
              "      <td>14.00000</td>\n",
              "      <td>9.90</td>\n",
              "    </tr>\n",
              "  </tbody>\n",
              "</table>\n",
              "</div>"
            ],
            "text/plain": [
              "                                                Time       Devicename  \\\n",
              "0  Wed Jul 07 2021 14:15:09 GMT+0530 (India Stand...  867378035207325   \n",
              "1  Wed Jul 07 2021 14:16:14 GMT+0530 (India Stand...  867378035207325   \n",
              "2  Wed Jul 07 2021 14:17:18 GMT+0530 (India Stand...  867378035207325   \n",
              "3  Wed Jul 07 2021 14:18:23 GMT+0530 (India Stand...  867378035207325   \n",
              "4  Wed Jul 07 2021 14:19:28 GMT+0530 (India Stand...  867378035207325   \n",
              "\n",
              "   Temperature  TDS        PH    DO  \n",
              "0      29.0625  0.0  13.61598  9.91  \n",
              "1      29.0625  0.0  13.12313  9.90  \n",
              "2      29.0000  0.0  13.55723  9.90  \n",
              "3      29.0625  0.0  14.00000  9.90  \n",
              "4      29.0625  0.0  14.00000  9.90  "
            ]
          },
          "execution_count": 35,
          "metadata": {},
          "output_type": "execute_result"
        }
      ],
      "source": [
        "# Import Data\n",
        "data = pd.read_csv('Copy of device_data_1.xlsx - Sheet0.csv')\n",
        "data.head()"
      ]
    },
    {
      "cell_type": "markdown",
      "metadata": {},
      "source": [
        "## Data Analysis and Processing"
      ]
    },
    {
      "cell_type": "code",
      "execution_count": 36,
      "metadata": {
        "colab": {
          "base_uri": "https://localhost:8080/",
          "height": 206
        },
        "id": "ZezjDQJ1zzIH",
        "outputId": "8ee9279e-6afc-40fd-a3c5-889bc1030708"
      },
      "outputs": [
        {
          "data": {
            "text/html": [
              "<div>\n",
              "<style scoped>\n",
              "    .dataframe tbody tr th:only-of-type {\n",
              "        vertical-align: middle;\n",
              "    }\n",
              "\n",
              "    .dataframe tbody tr th {\n",
              "        vertical-align: top;\n",
              "    }\n",
              "\n",
              "    .dataframe thead th {\n",
              "        text-align: right;\n",
              "    }\n",
              "</style>\n",
              "<table border=\"1\" class=\"dataframe\">\n",
              "  <thead>\n",
              "    <tr style=\"text-align: right;\">\n",
              "      <th></th>\n",
              "      <th>Temperature</th>\n",
              "      <th>TDS</th>\n",
              "      <th>PH</th>\n",
              "      <th>DO</th>\n",
              "    </tr>\n",
              "  </thead>\n",
              "  <tbody>\n",
              "    <tr>\n",
              "      <th>0</th>\n",
              "      <td>29.0625</td>\n",
              "      <td>0.0</td>\n",
              "      <td>13.61598</td>\n",
              "      <td>9.91</td>\n",
              "    </tr>\n",
              "    <tr>\n",
              "      <th>1</th>\n",
              "      <td>29.0625</td>\n",
              "      <td>0.0</td>\n",
              "      <td>13.12313</td>\n",
              "      <td>9.90</td>\n",
              "    </tr>\n",
              "    <tr>\n",
              "      <th>2</th>\n",
              "      <td>29.0000</td>\n",
              "      <td>0.0</td>\n",
              "      <td>13.55723</td>\n",
              "      <td>9.90</td>\n",
              "    </tr>\n",
              "    <tr>\n",
              "      <th>3</th>\n",
              "      <td>29.0625</td>\n",
              "      <td>0.0</td>\n",
              "      <td>14.00000</td>\n",
              "      <td>9.90</td>\n",
              "    </tr>\n",
              "    <tr>\n",
              "      <th>4</th>\n",
              "      <td>29.0625</td>\n",
              "      <td>0.0</td>\n",
              "      <td>14.00000</td>\n",
              "      <td>9.90</td>\n",
              "    </tr>\n",
              "  </tbody>\n",
              "</table>\n",
              "</div>"
            ],
            "text/plain": [
              "   Temperature  TDS        PH    DO\n",
              "0      29.0625  0.0  13.61598  9.91\n",
              "1      29.0625  0.0  13.12313  9.90\n",
              "2      29.0000  0.0  13.55723  9.90\n",
              "3      29.0625  0.0  14.00000  9.90\n",
              "4      29.0625  0.0  14.00000  9.90"
            ]
          },
          "execution_count": 36,
          "metadata": {},
          "output_type": "execute_result"
        }
      ],
      "source": [
        "# Drop fields which are not required for the model\n",
        "df = data.drop(['Time', 'Devicename'], axis = 1)\n",
        "df.head()"
      ]
    },
    {
      "cell_type": "code",
      "execution_count": 37,
      "metadata": {},
      "outputs": [
        {
          "data": {
            "text/html": [
              "<div>\n",
              "<style scoped>\n",
              "    .dataframe tbody tr th:only-of-type {\n",
              "        vertical-align: middle;\n",
              "    }\n",
              "\n",
              "    .dataframe tbody tr th {\n",
              "        vertical-align: top;\n",
              "    }\n",
              "\n",
              "    .dataframe thead th {\n",
              "        text-align: right;\n",
              "    }\n",
              "</style>\n",
              "<table border=\"1\" class=\"dataframe\">\n",
              "  <thead>\n",
              "    <tr style=\"text-align: right;\">\n",
              "      <th></th>\n",
              "      <th>Temperature</th>\n",
              "      <th>TDS</th>\n",
              "      <th>PH</th>\n",
              "      <th>DO</th>\n",
              "    </tr>\n",
              "  </thead>\n",
              "  <tbody>\n",
              "    <tr>\n",
              "      <th>count</th>\n",
              "      <td>1150.000000</td>\n",
              "      <td>1150.000000</td>\n",
              "      <td>1150.000000</td>\n",
              "      <td>1150.000000</td>\n",
              "    </tr>\n",
              "    <tr>\n",
              "      <th>mean</th>\n",
              "      <td>26.042283</td>\n",
              "      <td>110.163128</td>\n",
              "      <td>5.813235</td>\n",
              "      <td>3.270148</td>\n",
              "    </tr>\n",
              "    <tr>\n",
              "      <th>std</th>\n",
              "      <td>1.265751</td>\n",
              "      <td>57.359872</td>\n",
              "      <td>1.716083</td>\n",
              "      <td>1.345019</td>\n",
              "    </tr>\n",
              "    <tr>\n",
              "      <th>min</th>\n",
              "      <td>24.875000</td>\n",
              "      <td>0.000000</td>\n",
              "      <td>4.875184</td>\n",
              "      <td>1.070000</td>\n",
              "    </tr>\n",
              "    <tr>\n",
              "      <th>25%</th>\n",
              "      <td>25.500000</td>\n",
              "      <td>124.877675</td>\n",
              "      <td>5.312549</td>\n",
              "      <td>2.610000</td>\n",
              "    </tr>\n",
              "    <tr>\n",
              "      <th>50%</th>\n",
              "      <td>25.687500</td>\n",
              "      <td>133.931700</td>\n",
              "      <td>5.413732</td>\n",
              "      <td>3.100000</td>\n",
              "    </tr>\n",
              "    <tr>\n",
              "      <th>75%</th>\n",
              "      <td>25.812500</td>\n",
              "      <td>136.523500</td>\n",
              "      <td>5.524703</td>\n",
              "      <td>3.450000</td>\n",
              "    </tr>\n",
              "    <tr>\n",
              "      <th>max</th>\n",
              "      <td>34.750000</td>\n",
              "      <td>744.276200</td>\n",
              "      <td>14.000000</td>\n",
              "      <td>9.940000</td>\n",
              "    </tr>\n",
              "  </tbody>\n",
              "</table>\n",
              "</div>"
            ],
            "text/plain": [
              "       Temperature          TDS           PH           DO\n",
              "count  1150.000000  1150.000000  1150.000000  1150.000000\n",
              "mean     26.042283   110.163128     5.813235     3.270148\n",
              "std       1.265751    57.359872     1.716083     1.345019\n",
              "min      24.875000     0.000000     4.875184     1.070000\n",
              "25%      25.500000   124.877675     5.312549     2.610000\n",
              "50%      25.687500   133.931700     5.413732     3.100000\n",
              "75%      25.812500   136.523500     5.524703     3.450000\n",
              "max      34.750000   744.276200    14.000000     9.940000"
            ]
          },
          "execution_count": 37,
          "metadata": {},
          "output_type": "execute_result"
        }
      ],
      "source": [
        "df.describe()"
      ]
    },
    {
      "cell_type": "code",
      "execution_count": 38,
      "metadata": {},
      "outputs": [
        {
          "data": {
            "text/plain": [
              "(1150, 4)"
            ]
          },
          "execution_count": 38,
          "metadata": {},
          "output_type": "execute_result"
        }
      ],
      "source": [
        "df.shape"
      ]
    },
    {
      "cell_type": "code",
      "execution_count": 39,
      "metadata": {},
      "outputs": [
        {
          "data": {
            "text/plain": [
              "array([[<AxesSubplot:title={'center':'DO'}>]], dtype=object)"
            ]
          },
          "execution_count": 39,
          "metadata": {},
          "output_type": "execute_result"
        },
        {
          "data": {
            "image/png": "[encoded data removed]",
            "text/plain": [
              "<Figure size 432x288 with 1 Axes>"
            ]
          },
          "metadata": {
            "needs_background": "light"
          },
          "output_type": "display_data"
        }
      ],
      "source": [
        "# visualize the datapoints in each range of \"DO\"\n",
        "bins_list=[i for i in range(0,11)]\n",
        "df.hist(column='DO', bins=bins_list, grid=False, color='#86bf91', zorder=2, rwidth=0.9)"
      ]
    },
    {
      "cell_type": "markdown",
      "metadata": {},
      "source": [
        "It can be observed that majourity of our data lies in the region having DO between (2,4).\n",
        "\n",
        "To improve this dataset we will replicate the datapoints for DO > 4."
      ]
    },
    {
      "cell_type": "code",
      "execution_count": 40,
      "metadata": {
        "colab": {
          "base_uri": "https://localhost:8080/",
          "height": 424
        },
        "id": "uT4JBURvcIvm",
        "outputId": "03deb9b7-9116-4f98-f611-b22459bd8275"
      },
      "outputs": [
        {
          "data": {
            "text/html": [
              "<div>\n",
              "<style scoped>\n",
              "    .dataframe tbody tr th:only-of-type {\n",
              "        vertical-align: middle;\n",
              "    }\n",
              "\n",
              "    .dataframe tbody tr th {\n",
              "        vertical-align: top;\n",
              "    }\n",
              "\n",
              "    .dataframe thead th {\n",
              "        text-align: right;\n",
              "    }\n",
              "</style>\n",
              "<table border=\"1\" class=\"dataframe\">\n",
              "  <thead>\n",
              "    <tr style=\"text-align: right;\">\n",
              "      <th></th>\n",
              "      <th>Temperature</th>\n",
              "      <th>TDS</th>\n",
              "      <th>PH</th>\n",
              "      <th>DO</th>\n",
              "    </tr>\n",
              "  </thead>\n",
              "  <tbody>\n",
              "    <tr>\n",
              "      <th>0</th>\n",
              "      <td>27.4375</td>\n",
              "      <td>127.0223</td>\n",
              "      <td>6.696456</td>\n",
              "      <td>6.96</td>\n",
              "    </tr>\n",
              "    <tr>\n",
              "      <th>1</th>\n",
              "      <td>27.4375</td>\n",
              "      <td>124.8190</td>\n",
              "      <td>6.885760</td>\n",
              "      <td>6.81</td>\n",
              "    </tr>\n",
              "    <tr>\n",
              "      <th>2</th>\n",
              "      <td>27.4375</td>\n",
              "      <td>125.0000</td>\n",
              "      <td>6.582215</td>\n",
              "      <td>6.67</td>\n",
              "    </tr>\n",
              "    <tr>\n",
              "      <th>3</th>\n",
              "      <td>27.4375</td>\n",
              "      <td>125.0896</td>\n",
              "      <td>6.559371</td>\n",
              "      <td>6.54</td>\n",
              "    </tr>\n",
              "    <tr>\n",
              "      <th>4</th>\n",
              "      <td>27.4375</td>\n",
              "      <td>126.5262</td>\n",
              "      <td>6.428812</td>\n",
              "      <td>6.42</td>\n",
              "    </tr>\n",
              "    <tr>\n",
              "      <th>...</th>\n",
              "      <td>...</td>\n",
              "      <td>...</td>\n",
              "      <td>...</td>\n",
              "      <td>...</td>\n",
              "    </tr>\n",
              "    <tr>\n",
              "      <th>1448</th>\n",
              "      <td>30.0625</td>\n",
              "      <td>127.5950</td>\n",
              "      <td>14.000000</td>\n",
              "      <td>7.84</td>\n",
              "    </tr>\n",
              "    <tr>\n",
              "      <th>1449</th>\n",
              "      <td>30.0625</td>\n",
              "      <td>125.1168</td>\n",
              "      <td>14.000000</td>\n",
              "      <td>7.16</td>\n",
              "    </tr>\n",
              "    <tr>\n",
              "      <th>1450</th>\n",
              "      <td>30.1250</td>\n",
              "      <td>141.9695</td>\n",
              "      <td>14.000000</td>\n",
              "      <td>6.79</td>\n",
              "    </tr>\n",
              "    <tr>\n",
              "      <th>1451</th>\n",
              "      <td>30.1250</td>\n",
              "      <td>142.7360</td>\n",
              "      <td>14.000000</td>\n",
              "      <td>6.50</td>\n",
              "    </tr>\n",
              "    <tr>\n",
              "      <th>1452</th>\n",
              "      <td>30.0625</td>\n",
              "      <td>124.2934</td>\n",
              "      <td>14.000000</td>\n",
              "      <td>6.34</td>\n",
              "    </tr>\n",
              "  </tbody>\n",
              "</table>\n",
              "<p>1453 rows × 4 columns</p>\n",
              "</div>"
            ],
            "text/plain": [
              "      Temperature       TDS         PH    DO\n",
              "0         27.4375  127.0223   6.696456  6.96\n",
              "1         27.4375  124.8190   6.885760  6.81\n",
              "2         27.4375  125.0000   6.582215  6.67\n",
              "3         27.4375  125.0896   6.559371  6.54\n",
              "4         27.4375  126.5262   6.428812  6.42\n",
              "...           ...       ...        ...   ...\n",
              "1448      30.0625  127.5950  14.000000  7.84\n",
              "1449      30.0625  125.1168  14.000000  7.16\n",
              "1450      30.1250  141.9695  14.000000  6.79\n",
              "1451      30.1250  142.7360  14.000000  6.50\n",
              "1452      30.0625  124.2934  14.000000  6.34\n",
              "\n",
              "[1453 rows x 4 columns]"
            ]
          },
          "execution_count": 40,
          "metadata": {},
          "output_type": "execute_result"
        }
      ],
      "source": [
        "tempDf=df[(df['DO'] >= 4) & (df['DO'] < 7)]     # data having 4<=DO<7\n",
        "\n",
        "df=pd.concat([tempDf,tempDf,tempDf,df],ignore_index=True)     # replicated 3 times in the original dataset\n",
        "df"
      ]
    },
    {
      "cell_type": "code",
      "execution_count": 41,
      "metadata": {
        "colab": {
          "base_uri": "https://localhost:8080/",
          "height": 424
        },
        "id": "lwjiWnlCfKKS",
        "outputId": "181f5210-e75c-4f88-c002-5f8ab4bb1756"
      },
      "outputs": [
        {
          "data": {
            "text/html": [
              "<div>\n",
              "<style scoped>\n",
              "    .dataframe tbody tr th:only-of-type {\n",
              "        vertical-align: middle;\n",
              "    }\n",
              "\n",
              "    .dataframe tbody tr th {\n",
              "        vertical-align: top;\n",
              "    }\n",
              "\n",
              "    .dataframe thead th {\n",
              "        text-align: right;\n",
              "    }\n",
              "</style>\n",
              "<table border=\"1\" class=\"dataframe\">\n",
              "  <thead>\n",
              "    <tr style=\"text-align: right;\">\n",
              "      <th></th>\n",
              "      <th>Temperature</th>\n",
              "      <th>TDS</th>\n",
              "      <th>PH</th>\n",
              "      <th>DO</th>\n",
              "    </tr>\n",
              "  </thead>\n",
              "  <tbody>\n",
              "    <tr>\n",
              "      <th>0</th>\n",
              "      <td>29.0625</td>\n",
              "      <td>0.0000</td>\n",
              "      <td>13.61598</td>\n",
              "      <td>9.91</td>\n",
              "    </tr>\n",
              "    <tr>\n",
              "      <th>1</th>\n",
              "      <td>29.0625</td>\n",
              "      <td>0.0000</td>\n",
              "      <td>13.12313</td>\n",
              "      <td>9.90</td>\n",
              "    </tr>\n",
              "    <tr>\n",
              "      <th>2</th>\n",
              "      <td>29.0000</td>\n",
              "      <td>0.0000</td>\n",
              "      <td>13.55723</td>\n",
              "      <td>9.90</td>\n",
              "    </tr>\n",
              "    <tr>\n",
              "      <th>3</th>\n",
              "      <td>29.0625</td>\n",
              "      <td>0.0000</td>\n",
              "      <td>14.00000</td>\n",
              "      <td>9.90</td>\n",
              "    </tr>\n",
              "    <tr>\n",
              "      <th>4</th>\n",
              "      <td>29.0625</td>\n",
              "      <td>0.0000</td>\n",
              "      <td>14.00000</td>\n",
              "      <td>9.90</td>\n",
              "    </tr>\n",
              "    <tr>\n",
              "      <th>...</th>\n",
              "      <td>...</td>\n",
              "      <td>...</td>\n",
              "      <td>...</td>\n",
              "      <td>...</td>\n",
              "    </tr>\n",
              "    <tr>\n",
              "      <th>1688</th>\n",
              "      <td>30.0625</td>\n",
              "      <td>127.5950</td>\n",
              "      <td>14.00000</td>\n",
              "      <td>7.84</td>\n",
              "    </tr>\n",
              "    <tr>\n",
              "      <th>1689</th>\n",
              "      <td>30.0625</td>\n",
              "      <td>125.1168</td>\n",
              "      <td>14.00000</td>\n",
              "      <td>7.16</td>\n",
              "    </tr>\n",
              "    <tr>\n",
              "      <th>1690</th>\n",
              "      <td>30.1250</td>\n",
              "      <td>141.9695</td>\n",
              "      <td>14.00000</td>\n",
              "      <td>6.79</td>\n",
              "    </tr>\n",
              "    <tr>\n",
              "      <th>1691</th>\n",
              "      <td>30.1250</td>\n",
              "      <td>142.7360</td>\n",
              "      <td>14.00000</td>\n",
              "      <td>6.50</td>\n",
              "    </tr>\n",
              "    <tr>\n",
              "      <th>1692</th>\n",
              "      <td>30.0625</td>\n",
              "      <td>124.2934</td>\n",
              "      <td>14.00000</td>\n",
              "      <td>6.34</td>\n",
              "    </tr>\n",
              "  </tbody>\n",
              "</table>\n",
              "<p>1693 rows × 4 columns</p>\n",
              "</div>"
            ],
            "text/plain": [
              "      Temperature       TDS        PH    DO\n",
              "0         29.0625    0.0000  13.61598  9.91\n",
              "1         29.0625    0.0000  13.12313  9.90\n",
              "2         29.0000    0.0000  13.55723  9.90\n",
              "3         29.0625    0.0000  14.00000  9.90\n",
              "4         29.0625    0.0000  14.00000  9.90\n",
              "...           ...       ...       ...   ...\n",
              "1688      30.0625  127.5950  14.00000  7.84\n",
              "1689      30.0625  125.1168  14.00000  7.16\n",
              "1690      30.1250  141.9695  14.00000  6.79\n",
              "1691      30.1250  142.7360  14.00000  6.50\n",
              "1692      30.0625  124.2934  14.00000  6.34\n",
              "\n",
              "[1693 rows x 4 columns]"
            ]
          },
          "execution_count": 41,
          "metadata": {},
          "output_type": "execute_result"
        }
      ],
      "source": [
        "tempDf=df[(df['DO'] >= 7) & (df['DO'] < 10)]      # data having 7<=DO<10\n",
        "\n",
        "df=pd.concat([tempDf,tempDf,tempDf,tempDf,tempDf,tempDf,tempDf,tempDf,df],ignore_index=True)    #replicating 8 times in the original dataset\n",
        "df"
      ]
    },
    {
      "cell_type": "code",
      "execution_count": 42,
      "metadata": {
        "colab": {
          "base_uri": "https://localhost:8080/",
          "height": 424
        },
        "id": "rVlJufyDfpgS",
        "outputId": "ce32ae4f-a925-40be-bce5-6ce9f71bf706"
      },
      "outputs": [
        {
          "data": {
            "text/html": [
              "<div>\n",
              "<style scoped>\n",
              "    .dataframe tbody tr th:only-of-type {\n",
              "        vertical-align: middle;\n",
              "    }\n",
              "\n",
              "    .dataframe tbody tr th {\n",
              "        vertical-align: top;\n",
              "    }\n",
              "\n",
              "    .dataframe thead th {\n",
              "        text-align: right;\n",
              "    }\n",
              "</style>\n",
              "<table border=\"1\" class=\"dataframe\">\n",
              "  <thead>\n",
              "    <tr style=\"text-align: right;\">\n",
              "      <th></th>\n",
              "      <th>Temperature</th>\n",
              "      <th>TDS</th>\n",
              "      <th>PH</th>\n",
              "      <th>DO</th>\n",
              "    </tr>\n",
              "  </thead>\n",
              "  <tbody>\n",
              "    <tr>\n",
              "      <th>0</th>\n",
              "      <td>29.0000</td>\n",
              "      <td>0.000000</td>\n",
              "      <td>13.155770</td>\n",
              "      <td>9.90</td>\n",
              "    </tr>\n",
              "    <tr>\n",
              "      <th>1</th>\n",
              "      <td>27.3750</td>\n",
              "      <td>132.483100</td>\n",
              "      <td>6.327629</td>\n",
              "      <td>5.27</td>\n",
              "    </tr>\n",
              "    <tr>\n",
              "      <th>2</th>\n",
              "      <td>25.2500</td>\n",
              "      <td>0.000006</td>\n",
              "      <td>5.394149</td>\n",
              "      <td>3.65</td>\n",
              "    </tr>\n",
              "    <tr>\n",
              "      <th>3</th>\n",
              "      <td>29.0000</td>\n",
              "      <td>0.000000</td>\n",
              "      <td>13.172080</td>\n",
              "      <td>9.90</td>\n",
              "    </tr>\n",
              "    <tr>\n",
              "      <th>4</th>\n",
              "      <td>34.7500</td>\n",
              "      <td>137.699900</td>\n",
              "      <td>6.875968</td>\n",
              "      <td>6.29</td>\n",
              "    </tr>\n",
              "    <tr>\n",
              "      <th>...</th>\n",
              "      <td>...</td>\n",
              "      <td>...</td>\n",
              "      <td>...</td>\n",
              "      <td>...</td>\n",
              "    </tr>\n",
              "    <tr>\n",
              "      <th>1688</th>\n",
              "      <td>26.3125</td>\n",
              "      <td>125.124300</td>\n",
              "      <td>5.691163</td>\n",
              "      <td>3.27</td>\n",
              "    </tr>\n",
              "    <tr>\n",
              "      <th>1689</th>\n",
              "      <td>25.5000</td>\n",
              "      <td>135.964600</td>\n",
              "      <td>5.400675</td>\n",
              "      <td>2.42</td>\n",
              "    </tr>\n",
              "    <tr>\n",
              "      <th>1690</th>\n",
              "      <td>27.3750</td>\n",
              "      <td>124.565000</td>\n",
              "      <td>6.611590</td>\n",
              "      <td>5.58</td>\n",
              "    </tr>\n",
              "    <tr>\n",
              "      <th>1691</th>\n",
              "      <td>25.4375</td>\n",
              "      <td>135.778700</td>\n",
              "      <td>5.387618</td>\n",
              "      <td>3.29</td>\n",
              "    </tr>\n",
              "    <tr>\n",
              "      <th>1692</th>\n",
              "      <td>31.5000</td>\n",
              "      <td>121.302400</td>\n",
              "      <td>5.893529</td>\n",
              "      <td>7.25</td>\n",
              "    </tr>\n",
              "  </tbody>\n",
              "</table>\n",
              "<p>1693 rows × 4 columns</p>\n",
              "</div>"
            ],
            "text/plain": [
              "      Temperature         TDS         PH    DO\n",
              "0         29.0000    0.000000  13.155770  9.90\n",
              "1         27.3750  132.483100   6.327629  5.27\n",
              "2         25.2500    0.000006   5.394149  3.65\n",
              "3         29.0000    0.000000  13.172080  9.90\n",
              "4         34.7500  137.699900   6.875968  6.29\n",
              "...           ...         ...        ...   ...\n",
              "1688      26.3125  125.124300   5.691163  3.27\n",
              "1689      25.5000  135.964600   5.400675  2.42\n",
              "1690      27.3750  124.565000   6.611590  5.58\n",
              "1691      25.4375  135.778700   5.387618  3.29\n",
              "1692      31.5000  121.302400   5.893529  7.25\n",
              "\n",
              "[1693 rows x 4 columns]"
            ]
          },
          "execution_count": 42,
          "metadata": {},
          "output_type": "execute_result"
        }
      ],
      "source": [
        "df = df.sample(frac=1).reset_index(drop=True)    # randomizing the data\n",
        "df"
      ]
    },
    {
      "cell_type": "code",
      "execution_count": 43,
      "metadata": {},
      "outputs": [
        {
          "data": {
            "text/plain": [
              "array([[<AxesSubplot:title={'center':'DO'}>]], dtype=object)"
            ]
          },
          "execution_count": 43,
          "metadata": {},
          "output_type": "execute_result"
        },
        {
          "data": {
            "image/png": "[encoded data removed]",
            "text/plain": [
              "<Figure size 432x288 with 1 Axes>"
            ]
          },
          "metadata": {
            "needs_background": "light"
          },
          "output_type": "display_data"
        }
      ],
      "source": [
        "# visualize the datapoints in each range of \"DO\"\n",
        "bins_list=[i for i in range(0,11)]\n",
        "df.hist(column='DO', bins=bins_list, grid=False, color='#86bf91', zorder=2, rwidth=0.9)"
      ]
    },
    {
      "cell_type": "markdown",
      "metadata": {},
      "source": [
        "As we can observe, now the data is more evenly distributed than the previous one.  \n",
        "This will improve the accuracy of our model."
      ]
    },
    {
      "cell_type": "code",
      "execution_count": 44,
      "metadata": {
        "colab": {
          "base_uri": "https://localhost:8080/",
          "height": 287
        },
        "id": "EFiBHPgY13QE",
        "outputId": "3b122cfe-14e8-48c5-bdb4-be0deb46e07f"
      },
      "outputs": [
        {
          "data": {
            "text/plain": [
              "<AxesSubplot:>"
            ]
          },
          "execution_count": 44,
          "metadata": {},
          "output_type": "execute_result"
        },
        {
          "data": {
            "image/png": "[encoded data removed]",
            "text/plain": [
              "<Figure size 432x288 with 2 Axes>"
            ]
          },
          "metadata": {
            "needs_background": "light"
          },
          "output_type": "display_data"
        }
      ],
      "source": [
        "# Heatmap of the features. This shows how the features of our data depend on each other.\n",
        "sns.heatmap(df[[\"Temperature\",\"TDS\",\"PH\",\"DO\"]].corr(),annot=True ,fmt=\".2f\", cmap=\"coolwarm\")"
      ]
    },
    {
      "cell_type": "markdown",
      "metadata": {
        "id": "c3FHtwZ52iiD"
      },
      "source": [
        "We can clearly see by DO is closely related to PH and Temperature.  \n",
        "TDS is somewhat inversely related to DO."
      ]
    },
    {
      "cell_type": "code",
      "execution_count": 45,
      "metadata": {
        "colab": {
          "base_uri": "https://localhost:8080/",
          "height": 297
        },
        "id": "605p0HNO3yLF",
        "outputId": "da10a9df-7fe2-4825-fdb2-ff41823f89f9"
      },
      "outputs": [
        {
          "data": {
            "image/png": "[encoded data removed]",
            "text/plain": [
              "<Figure size 720x288 with 1 Axes>"
            ]
          },
          "metadata": {
            "needs_background": "light"
          },
          "output_type": "display_data"
        }
      ],
      "source": [
        "# Plot for Temperature vs DO\n",
        "plt.figure(figsize = (10,4), tight_layout = True)\n",
        "sns.scatterplot(x = df['Temperature'], y = df['DO'])\n",
        "\n",
        "plt.xlim(0)\n",
        "plt.ylim(0)\n",
        "plt.show()"
      ]
    },
    {
      "cell_type": "code",
      "execution_count": 46,
      "metadata": {
        "colab": {
          "base_uri": "https://localhost:8080/",
          "height": 297
        },
        "id": "H0epKnPo3y2I",
        "outputId": "29712812-76c7-4f83-e146-9af3993c7ba0"
      },
      "outputs": [
        {
          "data": {
            "image/png": "[encoded data removed]",
            "text/plain": [
              "<Figure size 720x288 with 1 Axes>"
            ]
          },
          "metadata": {
            "needs_background": "light"
          },
          "output_type": "display_data"
        }
      ],
      "source": [
        "# Plot for TDS vs DO\n",
        "plt.figure(figsize = (10,4), tight_layout = True)\n",
        "sns.scatterplot(x = df['TDS'], y = df['DO'])\n",
        "\n",
        "plt.xlim(0)\n",
        "plt.ylim(0)\n",
        "plt.show()"
      ]
    },
    {
      "cell_type": "code",
      "execution_count": 47,
      "metadata": {
        "colab": {
          "base_uri": "https://localhost:8080/",
          "height": 297
        },
        "id": "GMHA8W2632GZ",
        "outputId": "92c0a6b8-904c-4a2d-ed60-8b802d64a281"
      },
      "outputs": [
        {
          "data": {
            "image/png": "[encoded data removed]",
            "text/plain": [
              "<Figure size 720x288 with 1 Axes>"
            ]
          },
          "metadata": {
            "needs_background": "light"
          },
          "output_type": "display_data"
        }
      ],
      "source": [
        "# Plot for PH vs DO\n",
        "plt.figure(figsize = (10,4), tight_layout = True)\n",
        "sns.scatterplot(x = df['PH'], y = df['DO'])\n",
        "\n",
        "plt.xlim(0)\n",
        "plt.ylim(0)\n",
        "plt.show()"
      ]
    },
    {
      "cell_type": "code",
      "execution_count": 48,
      "metadata": {
        "id": "OnaTcLCE4mxS"
      },
      "outputs": [
        {
          "data": {
            "text/html": [
              "<div>\n",
              "<style scoped>\n",
              "    .dataframe tbody tr th:only-of-type {\n",
              "        vertical-align: middle;\n",
              "    }\n",
              "\n",
              "    .dataframe tbody tr th {\n",
              "        vertical-align: top;\n",
              "    }\n",
              "\n",
              "    .dataframe thead th {\n",
              "        text-align: right;\n",
              "    }\n",
              "</style>\n",
              "<table border=\"1\" class=\"dataframe\">\n",
              "  <thead>\n",
              "    <tr style=\"text-align: right;\">\n",
              "      <th></th>\n",
              "      <th>Temperature</th>\n",
              "      <th>TDS</th>\n",
              "      <th>PH</th>\n",
              "      <th>DO</th>\n",
              "    </tr>\n",
              "  </thead>\n",
              "  <tbody>\n",
              "    <tr>\n",
              "      <th>0</th>\n",
              "      <td>0.834532</td>\n",
              "      <td>0.000000e+00</td>\n",
              "      <td>0.939698</td>\n",
              "      <td>9.90</td>\n",
              "    </tr>\n",
              "    <tr>\n",
              "      <th>1</th>\n",
              "      <td>0.787770</td>\n",
              "      <td>1.780026e-01</td>\n",
              "      <td>0.451973</td>\n",
              "      <td>5.27</td>\n",
              "    </tr>\n",
              "    <tr>\n",
              "      <th>2</th>\n",
              "      <td>0.726619</td>\n",
              "      <td>7.705818e-09</td>\n",
              "      <td>0.385296</td>\n",
              "      <td>3.65</td>\n",
              "    </tr>\n",
              "    <tr>\n",
              "      <th>3</th>\n",
              "      <td>0.834532</td>\n",
              "      <td>0.000000e+00</td>\n",
              "      <td>0.940863</td>\n",
              "      <td>9.90</td>\n",
              "    </tr>\n",
              "    <tr>\n",
              "      <th>4</th>\n",
              "      <td>1.000000</td>\n",
              "      <td>1.850118e-01</td>\n",
              "      <td>0.491141</td>\n",
              "      <td>6.29</td>\n",
              "    </tr>\n",
              "  </tbody>\n",
              "</table>\n",
              "</div>"
            ],
            "text/plain": [
              "   Temperature           TDS        PH    DO\n",
              "0     0.834532  0.000000e+00  0.939698  9.90\n",
              "1     0.787770  1.780026e-01  0.451973  5.27\n",
              "2     0.726619  7.705818e-09  0.385296  3.65\n",
              "3     0.834532  0.000000e+00  0.940863  9.90\n",
              "4     1.000000  1.850118e-01  0.491141  6.29"
            ]
          },
          "execution_count": 48,
          "metadata": {},
          "output_type": "execute_result"
        }
      ],
      "source": [
        "# Normalizing the data\n",
        "df['Temperature']=df['Temperature']/max(df['Temperature'])\n",
        "df['TDS']=df['TDS']/max(df['TDS'])\n",
        "df['PH']=df['PH']/max(df['PH'])\n",
        "df.head()"
      ]
    },
    {
      "cell_type": "code",
      "execution_count": 49,
      "metadata": {
        "colab": {
          "base_uri": "https://localhost:8080/"
        },
        "id": "EfYMosBY7Gim",
        "outputId": "bdea433e-5a5a-4d3e-bf37-84ad666d8fb4"
      },
      "outputs": [
        {
          "data": {
            "text/plain": [
              "Temperature    0\n",
              "TDS            0\n",
              "PH             0\n",
              "DO             0\n",
              "dtype: int64"
            ]
          },
          "execution_count": 49,
          "metadata": {},
          "output_type": "execute_result"
        }
      ],
      "source": [
        "# Check for NULL values\n",
        "df.isnull().sum()"
      ]
    },
    {
      "cell_type": "code",
      "execution_count": 50,
      "metadata": {
        "id": "cGY59szO5kuZ"
      },
      "outputs": [
        {
          "data": {
            "text/html": [
              "<div>\n",
              "<style scoped>\n",
              "    .dataframe tbody tr th:only-of-type {\n",
              "        vertical-align: middle;\n",
              "    }\n",
              "\n",
              "    .dataframe tbody tr th {\n",
              "        vertical-align: top;\n",
              "    }\n",
              "\n",
              "    .dataframe thead th {\n",
              "        text-align: right;\n",
              "    }\n",
              "</style>\n",
              "<table border=\"1\" class=\"dataframe\">\n",
              "  <thead>\n",
              "    <tr style=\"text-align: right;\">\n",
              "      <th></th>\n",
              "      <th>Temperature</th>\n",
              "      <th>TDS</th>\n",
              "      <th>PH</th>\n",
              "      <th>DO</th>\n",
              "    </tr>\n",
              "  </thead>\n",
              "  <tbody>\n",
              "    <tr>\n",
              "      <th>0</th>\n",
              "      <td>1.015915</td>\n",
              "      <td>-1.545290</td>\n",
              "      <td>1.924978</td>\n",
              "      <td>9.90</td>\n",
              "    </tr>\n",
              "    <tr>\n",
              "      <th>1</th>\n",
              "      <td>0.217925</td>\n",
              "      <td>0.392876</td>\n",
              "      <td>-0.237820</td>\n",
              "      <td>5.27</td>\n",
              "    </tr>\n",
              "    <tr>\n",
              "      <th>2</th>\n",
              "      <td>-0.825600</td>\n",
              "      <td>-1.545290</td>\n",
              "      <td>-0.533497</td>\n",
              "      <td>3.65</td>\n",
              "    </tr>\n",
              "    <tr>\n",
              "      <th>3</th>\n",
              "      <td>1.015915</td>\n",
              "      <td>-1.545290</td>\n",
              "      <td>1.930144</td>\n",
              "      <td>9.90</td>\n",
              "    </tr>\n",
              "    <tr>\n",
              "      <th>4</th>\n",
              "      <td>3.839572</td>\n",
              "      <td>0.469195</td>\n",
              "      <td>-0.064134</td>\n",
              "      <td>6.29</td>\n",
              "    </tr>\n",
              "  </tbody>\n",
              "</table>\n",
              "</div>"
            ],
            "text/plain": [
              "   Temperature       TDS        PH    DO\n",
              "0     1.015915 -1.545290  1.924978  9.90\n",
              "1     0.217925  0.392876 -0.237820  5.27\n",
              "2    -0.825600 -1.545290 -0.533497  3.65\n",
              "3     1.015915 -1.545290  1.930144  9.90\n",
              "4     3.839572  0.469195 -0.064134  6.29"
            ]
          },
          "execution_count": 50,
          "metadata": {},
          "output_type": "execute_result"
        }
      ],
      "source": [
        "# Standard Scaling \n",
        "\n",
        "from sklearn.preprocessing import StandardScaler\n",
        "df['Temperature'] = StandardScaler().fit_transform(df['Temperature'].values.reshape(-1,1))\n",
        "df['PH'] = StandardScaler().fit_transform(df['PH'].values.reshape(-1,1))\n",
        "df['TDS'] = StandardScaler().fit_transform(df['TDS'].values.reshape(-1,1))\n",
        "df.head()"
      ]
    },
    {
      "cell_type": "markdown",
      "metadata": {},
      "source": [
        "## Split Data"
      ]
    },
    {
      "cell_type": "code",
      "execution_count": 51,
      "metadata": {
        "id": "smO3WMxE8SRG"
      },
      "outputs": [
        {
          "name": "stdout",
          "output_type": "stream",
          "text": [
            "Number of fields in Training data =  1523\n",
            "Number of fields in Testing data =  170\n"
          ]
        }
      ],
      "source": [
        "x = df.iloc[:, :-1]     # input features\n",
        "y = df.iloc[:, -1]      # output feature\n",
        "\n",
        "x_train, x_test, y_train, y_test = model_selection.train_test_split(x, y, test_size = 0.1, random_state = 20)\n",
        "\n",
        "print(\"Number of fields in Training data = \",len(x_train))\n",
        "print(\"Number of fields in Testing data = \",len(x_test))"
      ]
    },
    {
      "cell_type": "code",
      "execution_count": 52,
      "metadata": {
        "colab": {
          "base_uri": "https://localhost:8080/",
          "height": 424
        },
        "id": "fM-phNEj9yIL",
        "outputId": "772ce748-2feb-48e2-fd10-4e112cbd9968"
      },
      "outputs": [
        {
          "data": {
            "text/html": [
              "<div>\n",
              "<style scoped>\n",
              "    .dataframe tbody tr th:only-of-type {\n",
              "        vertical-align: middle;\n",
              "    }\n",
              "\n",
              "    .dataframe tbody tr th {\n",
              "        vertical-align: top;\n",
              "    }\n",
              "\n",
              "    .dataframe thead th {\n",
              "        text-align: right;\n",
              "    }\n",
              "</style>\n",
              "<table border=\"1\" class=\"dataframe\">\n",
              "  <thead>\n",
              "    <tr style=\"text-align: right;\">\n",
              "      <th></th>\n",
              "      <th>Temperature</th>\n",
              "      <th>TDS</th>\n",
              "      <th>PH</th>\n",
              "    </tr>\n",
              "  </thead>\n",
              "  <tbody>\n",
              "    <tr>\n",
              "      <th>611</th>\n",
              "      <td>3.655421</td>\n",
              "      <td>0.272715</td>\n",
              "      <td>-0.094115</td>\n",
              "    </tr>\n",
              "    <tr>\n",
              "      <th>694</th>\n",
              "      <td>-0.641449</td>\n",
              "      <td>0.462930</td>\n",
              "      <td>-0.560378</td>\n",
              "    </tr>\n",
              "    <tr>\n",
              "      <th>1215</th>\n",
              "      <td>-0.580065</td>\n",
              "      <td>0.430244</td>\n",
              "      <td>-0.532464</td>\n",
              "    </tr>\n",
              "    <tr>\n",
              "      <th>1456</th>\n",
              "      <td>2.304976</td>\n",
              "      <td>0.314409</td>\n",
              "      <td>-0.062066</td>\n",
              "    </tr>\n",
              "    <tr>\n",
              "      <th>120</th>\n",
              "      <td>-0.948368</td>\n",
              "      <td>-1.545290</td>\n",
              "      <td>-0.534532</td>\n",
              "    </tr>\n",
              "  </tbody>\n",
              "</table>\n",
              "</div>"
            ],
            "text/plain": [
              "      Temperature       TDS        PH\n",
              "611      3.655421  0.272715 -0.094115\n",
              "694     -0.641449  0.462930 -0.560378\n",
              "1215    -0.580065  0.430244 -0.532464\n",
              "1456     2.304976  0.314409 -0.062066\n",
              "120     -0.948368 -1.545290 -0.534532"
            ]
          },
          "execution_count": 52,
          "metadata": {},
          "output_type": "execute_result"
        }
      ],
      "source": [
        "x_train.head()"
      ]
    },
    {
      "cell_type": "code",
      "execution_count": 53,
      "metadata": {
        "colab": {
          "base_uri": "https://localhost:8080/"
        },
        "id": "XJLfNaPkAkO_",
        "outputId": "c7c791a5-37d7-4029-931d-37688d7abea6"
      },
      "outputs": [
        {
          "data": {
            "text/plain": [
              "611     6.77\n",
              "694     3.06\n",
              "1215    2.85\n",
              "1456    6.38\n",
              "120     3.61\n",
              "Name: DO, dtype: float64"
            ]
          },
          "execution_count": 53,
          "metadata": {},
          "output_type": "execute_result"
        }
      ],
      "source": [
        "y_train.head()"
      ]
    },
    {
      "cell_type": "markdown",
      "metadata": {},
      "source": [
        "## Model"
      ]
    },
    {
      "cell_type": "code",
      "execution_count": 54,
      "metadata": {
        "id": "aq4NTWFb-7nU"
      },
      "outputs": [],
      "source": [
        "# Setup\n",
        "import tensorflow as tf\n",
        "from tensorflow.keras import Sequential\n",
        "from tensorflow.keras.layers import Dense\n",
        "from tensorflow.keras.optimizers import Adam\n",
        "from tensorflow.keras import backend as K"
      ]
    },
    {
      "cell_type": "code",
      "execution_count": 55,
      "metadata": {
        "id": "CrBfyEHMLToX"
      },
      "outputs": [],
      "source": [
        "# Defining function for Root Mean Squared Error\n",
        "def rmse(y_true, y_pred):\n",
        "    return K.sqrt(K.mean(K.square(y_pred - y_true)))"
      ]
    },
    {
      "cell_type": "code",
      "execution_count": 56,
      "metadata": {
        "colab": {
          "base_uri": "https://localhost:8080/"
        },
        "id": "qtuDLNox9bKD",
        "outputId": "fd616c65-472f-4b7f-bba5-e10a78accd9a"
      },
      "outputs": [],
      "source": [
        "# Model Design\n",
        "\n",
        "tf.random.set_seed(42)\n",
        "\n",
        "model = Sequential([\n",
        "    Dense(150, activation='relu'),\n",
        "    Dense(450, activation='relu'),\n",
        "    Dense(100, activation='relu'),\n",
        "    Dense(1)\n",
        "])\n",
        "\n",
        "model.compile(\n",
        "    loss=rmse,\n",
        "    optimizer=Adam(),\n",
        "    metrics=[rmse]\n",
        ")"
      ]
    },
    {
      "cell_type": "markdown",
      "metadata": {},
      "source": [
        "This model contains a 3-layered Neural Network with 'relu' as the activation function. \n",
        "- 150 neurons for first layer\n",
        "- 450 neurons for first layer\n",
        "- 100 neurons for first layer"
      ]
    },
    {
      "cell_type": "code",
      "execution_count": null,
      "metadata": {},
      "outputs": [],
      "source": [
        "# Training the data set\n",
        "model.fit(x_train, y_train, epochs=1000)"
      ]
    },
    {
      "cell_type": "code",
      "execution_count": 58,
      "metadata": {
        "colab": {
          "base_uri": "https://localhost:8080/"
        },
        "id": "nRSpOMD4Ckwe",
        "outputId": "7c3aa22e-3192-4944-bb4a-6a4697aca08e"
      },
      "outputs": [
        {
          "name": "stdout",
          "output_type": "stream",
          "text": [
            "6/6 [==============================] - 0s 2ms/step - loss: 0.2854 - rmse: 0.2741\n"
          ]
        },
        {
          "data": {
            "text/plain": [
              "[0.28539907932281494, 0.27405157685279846]"
            ]
          },
          "execution_count": 58,
          "metadata": {},
          "output_type": "execute_result"
        }
      ],
      "source": [
        "# Evaluate the model\n",
        "model.evaluate(x_test,y_test)"
      ]
    },
    {
      "cell_type": "code",
      "execution_count": 59,
      "metadata": {
        "id": "X04RmYNfDDEL"
      },
      "outputs": [],
      "source": [
        "# Make predictions for the testing data\n",
        "pred = model.predict(x_test)"
      ]
    },
    {
      "cell_type": "code",
      "execution_count": 60,
      "metadata": {},
      "outputs": [
        {
          "name": "stdout",
          "output_type": "stream",
          "text": [
            "Prediction stats: \n"
          ]
        },
        {
          "data": {
            "text/html": [
              "<div>\n",
              "<style scoped>\n",
              "    .dataframe tbody tr th:only-of-type {\n",
              "        vertical-align: middle;\n",
              "    }\n",
              "\n",
              "    .dataframe tbody tr th {\n",
              "        vertical-align: top;\n",
              "    }\n",
              "\n",
              "    .dataframe thead th {\n",
              "        text-align: right;\n",
              "    }\n",
              "</style>\n",
              "<table border=\"1\" class=\"dataframe\">\n",
              "  <thead>\n",
              "    <tr style=\"text-align: right;\">\n",
              "      <th></th>\n",
              "      <th>0</th>\n",
              "    </tr>\n",
              "  </thead>\n",
              "  <tbody>\n",
              "    <tr>\n",
              "      <th>count</th>\n",
              "      <td>170.000000</td>\n",
              "    </tr>\n",
              "    <tr>\n",
              "      <th>mean</th>\n",
              "      <td>4.578084</td>\n",
              "    </tr>\n",
              "    <tr>\n",
              "      <th>std</th>\n",
              "      <td>2.308383</td>\n",
              "    </tr>\n",
              "    <tr>\n",
              "      <th>min</th>\n",
              "      <td>1.672224</td>\n",
              "    </tr>\n",
              "    <tr>\n",
              "      <th>25%</th>\n",
              "      <td>2.932594</td>\n",
              "    </tr>\n",
              "    <tr>\n",
              "      <th>50%</th>\n",
              "      <td>3.453239</td>\n",
              "    </tr>\n",
              "    <tr>\n",
              "      <th>75%</th>\n",
              "      <td>6.116743</td>\n",
              "    </tr>\n",
              "    <tr>\n",
              "      <th>max</th>\n",
              "      <td>9.873835</td>\n",
              "    </tr>\n",
              "  </tbody>\n",
              "</table>\n",
              "</div>"
            ],
            "text/plain": [
              "                0\n",
              "count  170.000000\n",
              "mean     4.578084\n",
              "std      2.308383\n",
              "min      1.672224\n",
              "25%      2.932594\n",
              "50%      3.453239\n",
              "75%      6.116743\n",
              "max      9.873835"
            ]
          },
          "execution_count": 60,
          "metadata": {},
          "output_type": "execute_result"
        }
      ],
      "source": [
        "df_pred = pd.DataFrame(pred)\n",
        "print(\"Prediction stats: \")\n",
        "df_pred.describe()"
      ]
    },
    {
      "cell_type": "code",
      "execution_count": 61,
      "metadata": {},
      "outputs": [
        {
          "name": "stdout",
          "output_type": "stream",
          "text": [
            "y_test stats: \n"
          ]
        },
        {
          "data": {
            "text/plain": [
              "count    170.000000\n",
              "mean       4.582941\n",
              "std        2.361466\n",
              "min        1.100000\n",
              "25%        2.942500\n",
              "50%        3.495000\n",
              "75%        6.070000\n",
              "max        9.940000\n",
              "Name: DO, dtype: float64"
            ]
          },
          "execution_count": 61,
          "metadata": {},
          "output_type": "execute_result"
        }
      ],
      "source": [
        "print(\"y_test stats: \")\n",
        "y_test.describe()"
      ]
    },
    {
      "cell_type": "markdown",
      "metadata": {},
      "source": [
        "We can compare the stats for pred and y_test"
      ]
    },
    {
      "cell_type": "code",
      "execution_count": 62,
      "metadata": {},
      "outputs": [
        {
          "data": {
            "text/plain": [
              "0.05237424066070087"
            ]
          },
          "execution_count": 62,
          "metadata": {},
          "output_type": "execute_result"
        }
      ],
      "source": [
        "# Error Calculation\n",
        "err = 0\n",
        "pred = pred.flatten()\n",
        "y_test = np.array(y_test)\n",
        "\n",
        "for i in range(0,len(pred)):\n",
        "  err = err + abs(pred[i]-y_test[i])/y_test[i]\n",
        "\n",
        "err = err/pred.shape[0]\n",
        "\n",
        "err"
      ]
    },
    {
      "cell_type": "code",
      "execution_count": 63,
      "metadata": {},
      "outputs": [
        {
          "name": "stdout",
          "output_type": "stream",
          "text": [
            "Mean :  0.1714314426534316\n",
            "Median :  0.09088923931121817\n"
          ]
        }
      ],
      "source": [
        "# Difference between predicted and true value \n",
        "yy=abs(pred-y_test)\n",
        "print(\"Mean : \", np.mean(yy))\n",
        "print(\"Median : \", np.median(yy))"
      ]
    },
    {
      "cell_type": "code",
      "execution_count": 64,
      "metadata": {},
      "outputs": [
        {
          "data": {
            "image/png": "[encoded data removed]",
            "text/plain": [
              "<Figure size 720x288 with 1 Axes>"
            ]
          },
          "metadata": {
            "needs_background": "light"
          },
          "output_type": "display_data"
        }
      ],
      "source": [
        "# Scatter-plot of yy\n",
        "plt.figure(figsize = (10,4), tight_layout = True)\n",
        "sns.scatterplot(x = y_test, y = yy)\n",
        "\n",
        "plt.xlabel('y_test')\n",
        "plt.ylabel('Diffrence error')\n",
        "\n",
        "plt.xlim(0)\n",
        "plt.ylim(0)\n",
        "plt.show()"
      ]
    },
    {
      "cell_type": "markdown",
      "metadata": {},
      "source": [
        "## Conclusion:\n",
        "- It is observed that now the difference error is relatively less than what it was observed earlier.\n",
        "\n",
        "#### Note: \n",
        "- The data replication should be less. If we replicate the data multiple number of times then there would be chances of Overfitting.\n"
      ]
    }
  ],
  "metadata": {
    "colab": {
      "collapsed_sections": [],
      "name": "Intern.ipynb",
      "provenance": []
    },
    "kernelspec": {
      "display_name": "Python 3",
      "name": "python3"
    },
    "language_info": {
      "codemirror_mode": {
        "name": "ipython",
        "version": 3
      },
      "file_extension": ".py",
      "mimetype": "text/x-python",
      "name": "python",
      "nbconvert_exporter": "python",
      "pygments_lexer": "ipython3",
      "version": "3.8.10"
    }
  },
  "nbformat": 4,
  "nbformat_minor": 0
}
